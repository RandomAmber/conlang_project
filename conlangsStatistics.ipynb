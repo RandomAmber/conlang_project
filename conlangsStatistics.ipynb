{
 "cells": [
  {
   "cell_type": "code",
   "execution_count": 1,
   "metadata": {
    "collapsed": true
   },
   "outputs": [],
   "source": [
    "import requests  \n",
    "from lxml import html  \n",
    "import sys  \n",
    "import urlparse\n",
    "import pandas as pd\n",
    "import numpy as np\n",
    "import time"
   ]
  },
  {
   "cell_type": "code",
   "execution_count": 2,
   "metadata": {
    "collapsed": true
   },
   "outputs": [],
   "source": [
    "Likes = pd.DataFrame(columns=['Name','language','like'])\n",
    "WhoLike = pd.DataFrame(columns=['Name','like'])"
   ]
  },
  {
   "cell_type": "code",
   "execution_count": 42,
   "metadata": {
    "collapsed": true
   },
   "outputs": [],
   "source": [
    "response = requests.get('https://vk.com/feed?q=%23Lexember&section=search')  \n",
    "parsed_body = html.fromstring(response.text)"
   ]
  },
  {
   "cell_type": "code",
   "execution_count": null,
   "metadata": {
    "collapsed": true
   },
   "outputs": [],
   "source": [
    "category_info = parsed_body.xpath('//div[@id = \"panelCategory\"]//a[@class = \"trackClickLeftNav item-ctg-off\"][@data-facet = \"category\"]/text()')\n",
    "category_href = parsed_body.xpath('//div[@id = \"panelCategory\"]//a[@class = \"trackClickLeftNav item-ctg-off\"][@data-facet = \"category\"]/@href')\n",
    "for i in range(0,len(category_info)):\n",
    "    category_info[i] = category_info[i][0:category_info[i].index('(')-1]"
   ]
  },
  {
   "cell_type": "code",
   "execution_count": null,
   "metadata": {
    "collapsed": true
   },
   "outputs": [],
   "source": []
  }
 ],
 "metadata": {
  "kernelspec": {
   "display_name": "Python 2",
   "language": "python",
   "name": "python2"
  },
  "language_info": {
   "codemirror_mode": {
    "name": "ipython",
    "version": 2
   },
   "file_extension": ".py",
   "mimetype": "text/x-python",
   "name": "python",
   "nbconvert_exporter": "python",
   "pygments_lexer": "ipython2",
   "version": "2.7.11"
  }
 },
 "nbformat": 4,
 "nbformat_minor": 0
}
